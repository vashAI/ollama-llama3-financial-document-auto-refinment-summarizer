{
 "cells": [
  {
   "cell_type": "code",
   "execution_count": 1,
   "metadata": {},
   "outputs": [
    {
     "name": "stderr",
     "output_type": "stream",
     "text": [
      "/Users/christopheatten/Library/Python/3.9/lib/python/site-packages/urllib3/__init__.py:35: NotOpenSSLWarning: urllib3 v2 only supports OpenSSL 1.1.1+, currently the 'ssl' module is compiled with 'LibreSSL 2.8.3'. See: https://github.com/urllib3/urllib3/issues/3020\n",
      "  warnings.warn(\n"
     ]
    }
   ],
   "source": [
    "import PyPDF2\n",
    "\n",
    "from langchain_community.vectorstores import FAISS\n",
    "from langchain.prompts import ChatPromptTemplate\n",
    "from langchain_community.llms.ollama import Ollama\n",
    "\n",
    "from IPython.display import display, Markdown, clear_output\n",
    "import time\n"
   ]
  },
  {
   "cell_type": "code",
   "execution_count": 2,
   "metadata": {},
   "outputs": [],
   "source": [
    "# Initialize the LLaMA model via Ollama\n",
    "model_id = \"llama3.1\"\n",
    "model = Ollama(model=model_id)"
   ]
  },
  {
   "cell_type": "code",
   "execution_count": 3,
   "metadata": {},
   "outputs": [],
   "source": [
    "# Function to extract text from PDF\n",
    "def extract_text_from_pdf(pdf_path):\n",
    "    with open(pdf_path, 'rb') as file:\n",
    "        reader = PyPDF2.PdfReader(file)\n",
    "        text = \"\"\n",
    "        for page in range(len(reader.pages)):\n",
    "            text += reader.pages[page].extract_text()\n",
    "    return text"
   ]
  },
  {
   "cell_type": "code",
   "execution_count": 50,
   "metadata": {},
   "outputs": [],
   "source": [
    "def generate_refined_summary(model, text, max_iterations=5):\n",
    "    iteration = 0\n",
    "    current_summary = None\n",
    "    questions_generated = True\n",
    "\n",
    "    # Step 1: Generate an initial summary\n",
    "    initial_prompt_text = \"\"\"\n",
    "    You are a summarization expert. Your task is to write summaries.\n",
    "    Here is the original document text:\n",
    "    \n",
    "    {text}\n",
    "    \n",
    "    Start by creating a summary in your first pass. \n",
    "    \n",
    "    Create an initial summary.\n",
    "    \"\"\"\n",
    "    initial_prompt = ChatPromptTemplate.from_template(initial_prompt_text)\n",
    "    current_summary = model(initial_prompt.format(text=text))\n",
    "    \n",
    "    display(Markdown(f\"### Initial Summary (Iteration {iteration})\"))\n",
    "    display(Markdown(current_summary))\n",
    "\n",
    "    # Iterative refinement process\n",
    "    while iteration < max_iterations and questions_generated:\n",
    "        print(\"-----------------Next iteration-----------------\")\n",
    "        iteration += 1\n",
    "        # Step 2: Ask the LLM to compare the original text and summary, and to refine it\n",
    "        refinement_prompt_text = \"\"\"\n",
    "        You are a summarization expert. Your task is to refine summaries.\n",
    "        Here is the original document text:\n",
    "        \n",
    "        {text}\n",
    "        \n",
    "        Refine the below current summary, keep it as it is but ensure it becomes more complete, coherent, clear, and accurate. \n",
    "        Aim to capture the essence of the text with each refinement.\n",
    "        \n",
    "        Current summary:\n",
    "        {summary}\n",
    "        \n",
    "        Please provide a refined summary below:\n",
    "        \"\"\"\n",
    "        refinement_prompt = ChatPromptTemplate.from_template(refinement_prompt_text)\n",
    "        current_summary = model(refinement_prompt.format(text = text, \n",
    "                                                         summary = current_summary))\n",
    "    \n",
    "    return current_summary\n"
   ]
  },
  {
   "cell_type": "code",
   "execution_count": 53,
   "metadata": {},
   "outputs": [],
   "source": [
    "document_text = extract_text_from_pdf(\"../documents/ey-eu-ai-act-political-agreement-overview-february-2024.pdf\")"
   ]
  },
  {
   "cell_type": "code",
   "execution_count": 54,
   "metadata": {},
   "outputs": [
    {
     "data": {
      "text/markdown": [
       "### Initial Summary (Iteration 0)"
      ],
      "text/plain": [
       "<IPython.core.display.Markdown object>"
      ]
     },
     "metadata": {},
     "output_type": "display_data"
    },
    {
     "data": {
      "text/markdown": [
       "Here's a concise summary of the text:\n",
       "\n",
       "The EU AI Act is expected to be approved by the end of April 2024 and will come into force 20 days after publication, starting a phased implementation timeline. The Act sets guidelines for the development and use of artificial intelligence in the European Union. The next steps include international alignment with other countries through organizations like the Council of Europe, G7, and UN to promote compatible rules globally. Additionally, a voluntary AI Pact is planned to encourage industry commitment to implementing requirements ahead of legal deadlines.\n",
       "\n",
       "Let me know if you'd like me to make any adjustments or expand on this summary!"
      ],
      "text/plain": [
       "<IPython.core.display.Markdown object>"
      ]
     },
     "metadata": {},
     "output_type": "display_data"
    },
    {
     "name": "stdout",
     "output_type": "stream",
     "text": [
      "-----------------Next iteration-----------------\n",
      "-----------------Next iteration-----------------\n",
      "-----------------Next iteration-----------------\n",
      "-----------------Next iteration-----------------\n",
      "-----------------Next iteration-----------------\n",
      "\n",
      "\n",
      "\n",
      "\n",
      "Final Summary:\n"
     ]
    },
    {
     "data": {
      "text/markdown": [
       "Here is a refined summary:\n",
       "\n",
       "**European Union's Artificial Intelligence Act (AI Act)**: The EU's AI Act is a significant regulatory milestone expected to be finalized by April 2024. It establishes a phased implementation timeline starting after publication.\n",
       "\n",
       "**Key Roles and Responsibilities**: The Act defines key roles, including Providers, Deployers, Authorized Representatives, Importers, Distributors, Product Manufacturers, and Operators. These entities will be held accountable for ensuring the safety, security, and transparency of AI systems.\n",
       "\n",
       "**Requirements and Provisions**: The AI Act requires:\n",
       "\n",
       "* **Transparency and Explainability**: Ensuring users understand how AI decisions are made.\n",
       "* **Risk-Based Approach**: Identifying potential risks and mitigating them to ensure safety and security of AI systems.\n",
       "* **Accountability and Liability**: Holding organizations responsible for any negative consequences related to AI.\n",
       "\n",
       "**International Collaboration**: The EU Commission plans to collaborate with other countries through international organizations to promote alignment. A **Voluntary AI Pact** will encourage industry commitment to implementing requirements ahead of legal deadlines, fostering a culture of proactive compliance.\n",
       "\n",
       "**Leadership in Responsible AI Governance**: The EU aims to establish itself as a leader in developing and promoting responsible AI governance globally, ensuring European citizens benefit from the safe and trustworthy use of AI. EY (Ernst & Young) supports this effort by highlighting their commitment to building trust and using data-driven insights to create a better working world.\n",
       "\n",
       "This refined summary captures the essence of the original text while providing a more complete, coherent, clear, and accurate understanding of the EU's Artificial Intelligence Act."
      ],
      "text/plain": [
       "<IPython.core.display.Markdown object>"
      ]
     },
     "metadata": {},
     "output_type": "display_data"
    }
   ],
   "source": [
    "final_summary = generate_refined_summary(model, document_text)\n",
    "print(\"\\n\\n\\n\\nFinal Summary:\")\n",
    "display(Markdown(final_summary))"
   ]
  },
  {
   "cell_type": "code",
   "execution_count": null,
   "metadata": {},
   "outputs": [],
   "source": []
  }
 ],
 "metadata": {
  "kernelspec": {
   "display_name": "Python 3",
   "language": "python",
   "name": "python3"
  },
  "language_info": {
   "codemirror_mode": {
    "name": "ipython",
    "version": 3
   },
   "file_extension": ".py",
   "mimetype": "text/x-python",
   "name": "python",
   "nbconvert_exporter": "python",
   "pygments_lexer": "ipython3",
   "version": "3.9.6"
  }
 },
 "nbformat": 4,
 "nbformat_minor": 2
}
